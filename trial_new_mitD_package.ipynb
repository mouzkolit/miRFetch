{
 "cells": [
  {
   "cell_type": "code",
   "execution_count": 1,
   "id": "0e01e17b",
   "metadata": {},
   "outputs": [],
   "source": [
    "from rnaFetch.mirTFetch import mirTFetch\n",
    "from rnaFetch.FetchBioMart import GeneBiomart\n",
    "from rnaFetch.mirCDSFetch import microTCDS\n",
    "import pandas as pd \n",
    "from pySankey.sankey import sankey"
   ]
  },
  {
   "cell_type": "code",
   "execution_count": null,
   "id": "7722b58a",
   "metadata": {},
   "outputs": [
    {
     "name": "stderr",
     "output_type": "stream",
     "text": [
      "[WDM] - Downloading: 100%|███████████████████████████████████████████████████████████████| 6.96M/6.96M [00:00<00:00, 28.3MB/s]\n"
     ]
    },
    {
     "name": "stdout",
     "output_type": "stream",
     "text": [
      "The current threshold is: 0.95\n",
      "Input Area of Server cleared after Job\n",
      "Started Submitting for the following key: GlyCCC\n",
      "Succesfully checked nucleotides for submission of key : GlyCCC\n",
      "Job is running\n",
      "Job is running\n",
      "Job is running\n",
      "All Data is queried successfully, Job completed\n",
      "You can retrieve your table using self.prediction_data\n",
      "Input Area of Server cleared after Job\n",
      "Started Submitting for the following key: LysTTT\n",
      "Succesfully checked nucleotides for submission of key : LysTTT\n",
      "Job is running\n",
      "Job is running\n",
      "Job is running\n",
      "All Data is queried successfully, Job completed\n",
      "You can retrieve your table using self.prediction_data\n",
      "Input Area of Server cleared after Job\n",
      "Started Submitting for the following key: ThrAGT\n",
      "Succesfully checked nucleotides for submission of key : ThrAGT\n",
      "Job is running\n",
      "Job is running\n",
      "Job is running\n",
      "All Data is queried successfully, Job completed\n",
      "You can retrieve your table using self.prediction_data\n",
      "Input Area of Server cleared after Job\n",
      "Retrieving the Prediction Data\n",
      "234 234 234\n",
      "Retrieving the Prediction Data\n",
      "We found suggestions by microCDS, please check manually\n",
      "Deleted all suggestions\n",
      "We found suggestions by microCDS, please check manually\n",
      "Deleted all suggestions\n",
      "We found suggestions by microCDS, please check manually\n",
      "Deleted all suggestions\n",
      "We found suggestions by microCDS, please check manually\n",
      "Deleted all suggestions\n",
      "We found suggestions by microCDS, please check manually\n",
      "Deleted all suggestions\n",
      "We found suggestions by microCDS, please check manually\n",
      "Deleted all suggestions\n",
      "We found suggestions by microCDS, please check manually\n",
      "Setted threshold successfully to 0.9\n",
      "Download of the Table initialized\n"
     ]
    }
   ],
   "source": [
    "# run the data \n",
    "dictionary = {\"GlyCCC\": [\"GCATTGGTGGTTCAGTGGTAGAATTCTC\", \"GCATTGGTGGTTCAGTGGTAGAATTCTCGCC\", \"GCATTGGTGGTTCAGTGGTAGAATTCT\"],\n",
    "             \"LysTTT\": [\"GGGAGCGCCCGGATAGCTCAGTCGGTAGAGCATCAGACTTTT\",\"TCGGGCGGGAGTGGTGGCTTTT\",\"TCGGGCGGGAGTGGTGGCTTT\"],\n",
    "              \"ThrAGT\": [\"TCGAATCCCAGCGGTGCCTCCA\",\"ATCCCAGCGGTGCCTCCA\",\"ATCCCAGCGGTGCCTCCG\"]}\n",
    "\n",
    "# load the module\n",
    "fetcht = mirTFetch(\"Chrome\")\n",
    "fetcht.threshold = 0.95\n",
    "fetcht.run_miRNA_analysis(dictionary)\n",
    "biomart_data = GeneBiomart(fetcht.prediction_data[\"Transcript_ID\"].unique().tolist())\n",
    "return_table = biomart_data.query_data()\n",
    "final_table = biomart_data.merge_annotation(fetcht.prediction_data, return_table)\n",
    "fetchcds = microTCDS(final_table, threshold = 0.95)\n",
    "new_table = fetchcds.run_miRNA_analysis()\n",
    "overlap, grouped = fetchcds.get_mt_cds_overlap(final_table, new_table)"
   ]
  },
  {
   "cell_type": "code",
   "execution_count": 3,
   "id": "f5623c8c",
   "metadata": {},
   "outputs": [
    {
     "ename": "NameError",
     "evalue": "name 'pd' is not defined",
     "output_type": "error",
     "traceback": [
      "\u001b[0;31m---------------------------------------------------------------------------\u001b[0m",
      "\u001b[0;31mNameError\u001b[0m                                 Traceback (most recent call last)",
      "\u001b[0;32m<ipython-input-3-c98c9f195782>\u001b[0m in \u001b[0;36m<module>\u001b[0;34m\u001b[0m\n\u001b[0;32m----> 1\u001b[0;31m \u001b[0mmirna_most\u001b[0m \u001b[0;34m=\u001b[0m \u001b[0mpd\u001b[0m\u001b[0;34m.\u001b[0m\u001b[0mDataFrame\u001b[0m\u001b[0;34m(\u001b[0m\u001b[0moverlap\u001b[0m\u001b[0;34m.\u001b[0m\u001b[0mgroupby\u001b[0m\u001b[0;34m(\u001b[0m\u001b[0;34m[\u001b[0m\u001b[0;34m\"Query\"\u001b[0m\u001b[0;34m,\u001b[0m \u001b[0;34m\"Sequence\"\u001b[0m\u001b[0;34m,\u001b[0m \u001b[0;34m\"Mirna Name\"\u001b[0m\u001b[0;34m]\u001b[0m\u001b[0;34m)\u001b[0m\u001b[0;34m[\u001b[0m\u001b[0;34m\"Mirna Name\"\u001b[0m\u001b[0;34m]\u001b[0m\u001b[0;34m.\u001b[0m\u001b[0mcount\u001b[0m\u001b[0;34m(\u001b[0m\u001b[0;34m)\u001b[0m\u001b[0;34m)\u001b[0m\u001b[0;34m\u001b[0m\u001b[0;34m\u001b[0m\u001b[0m\n\u001b[0m\u001b[1;32m      2\u001b[0m \u001b[0mmirna_most\u001b[0m\u001b[0;34m.\u001b[0m\u001b[0mcolumns\u001b[0m \u001b[0;34m=\u001b[0m \u001b[0;34m[\u001b[0m\u001b[0;34m\"trial\"\u001b[0m\u001b[0;34m]\u001b[0m\u001b[0;34m\u001b[0m\u001b[0;34m\u001b[0m\u001b[0m\n\u001b[1;32m      3\u001b[0m \u001b[0mmirna_most\u001b[0m\u001b[0;34m.\u001b[0m\u001b[0mreset_index\u001b[0m\u001b[0;34m(\u001b[0m\u001b[0;34m)\u001b[0m\u001b[0;34m.\u001b[0m\u001b[0msort_values\u001b[0m\u001b[0;34m(\u001b[0m\u001b[0;34m\"trial\"\u001b[0m\u001b[0;34m,\u001b[0m \u001b[0mascending\u001b[0m \u001b[0;34m=\u001b[0m \u001b[0;32mFalse\u001b[0m\u001b[0;34m)\u001b[0m\u001b[0;34m\u001b[0m\u001b[0;34m\u001b[0m\u001b[0m\n",
      "\u001b[0;31mNameError\u001b[0m: name 'pd' is not defined"
     ]
    }
   ],
   "source": [
    "mirna_most = pd.DataFrame(overlap.groupby([\"Query\", \"Sequence\", \"Mirna Name\"])[\"Mirna Name\"].count())\n",
    "mirna_most.columns = [\"trial\"]\n",
    "mirna_most.reset_index().sort_values(\"trial\", ascending = False)"
   ]
  },
  {
   "cell_type": "code",
   "execution_count": 19,
   "id": "b6690d21",
   "metadata": {},
   "outputs": [
    {
     "data": {
      "text/html": [
       "<div>\n",
       "<style scoped>\n",
       "    .dataframe tbody tr th:only-of-type {\n",
       "        vertical-align: middle;\n",
       "    }\n",
       "\n",
       "    .dataframe tbody tr th {\n",
       "        vertical-align: top;\n",
       "    }\n",
       "\n",
       "    .dataframe thead th {\n",
       "        text-align: right;\n",
       "    }\n",
       "</style>\n",
       "<table border=\"1\" class=\"dataframe\">\n",
       "  <thead>\n",
       "    <tr style=\"text-align: right;\">\n",
       "      <th></th>\n",
       "      <th>Query</th>\n",
       "      <th>Sequence</th>\n",
       "      <th>Mirna Name</th>\n",
       "      <th>trial</th>\n",
       "    </tr>\n",
       "  </thead>\n",
       "  <tbody>\n",
       "    <tr>\n",
       "      <th>6591</th>\n",
       "      <td>ThrAGT</td>\n",
       "      <td>&gt;ATCCCAGCGGTGCCTCCG</td>\n",
       "      <td>hsa-miR-3613-3p</td>\n",
       "      <td>160</td>\n",
       "    </tr>\n",
       "    <tr>\n",
       "      <th>4491</th>\n",
       "      <td>ThrAGT</td>\n",
       "      <td>&gt;ATCCCAGCGGTGCCTCCA</td>\n",
       "      <td>hsa-miR-3613-3p</td>\n",
       "      <td>156</td>\n",
       "    </tr>\n",
       "    <tr>\n",
       "      <th>7396</th>\n",
       "      <td>ThrAGT</td>\n",
       "      <td>&gt;ATCCCAGCGGTGCCTCCG</td>\n",
       "      <td>hsa-miR-548c-3p</td>\n",
       "      <td>136</td>\n",
       "    </tr>\n",
       "    <tr>\n",
       "      <th>5294</th>\n",
       "      <td>ThrAGT</td>\n",
       "      <td>&gt;ATCCCAGCGGTGCCTCCA</td>\n",
       "      <td>hsa-miR-548c-3p</td>\n",
       "      <td>132</td>\n",
       "    </tr>\n",
       "    <tr>\n",
       "      <th>7363</th>\n",
       "      <td>ThrAGT</td>\n",
       "      <td>&gt;ATCCCAGCGGTGCCTCCG</td>\n",
       "      <td>hsa-miR-548aj-3p</td>\n",
       "      <td>80</td>\n",
       "    </tr>\n",
       "    <tr>\n",
       "      <th>...</th>\n",
       "      <td>...</td>\n",
       "      <td>...</td>\n",
       "      <td>...</td>\n",
       "      <td>...</td>\n",
       "    </tr>\n",
       "    <tr>\n",
       "      <th>3080</th>\n",
       "      <td>GlyCCC</td>\n",
       "      <td>&gt;GCATTGGTGGTTCAGTGGTAGAATTCTCGCC</td>\n",
       "      <td>hsa-miR-4663</td>\n",
       "      <td>1</td>\n",
       "    </tr>\n",
       "    <tr>\n",
       "      <th>3078</th>\n",
       "      <td>GlyCCC</td>\n",
       "      <td>&gt;GCATTGGTGGTTCAGTGGTAGAATTCTCGCC</td>\n",
       "      <td>hsa-miR-4661-5p</td>\n",
       "      <td>1</td>\n",
       "    </tr>\n",
       "    <tr>\n",
       "      <th>3077</th>\n",
       "      <td>GlyCCC</td>\n",
       "      <td>&gt;GCATTGGTGGTTCAGTGGTAGAATTCTCGCC</td>\n",
       "      <td>hsa-miR-4660</td>\n",
       "      <td>1</td>\n",
       "    </tr>\n",
       "    <tr>\n",
       "      <th>3074</th>\n",
       "      <td>GlyCCC</td>\n",
       "      <td>&gt;GCATTGGTGGTTCAGTGGTAGAATTCTCGCC</td>\n",
       "      <td>hsa-miR-4659b-3p</td>\n",
       "      <td>1</td>\n",
       "    </tr>\n",
       "    <tr>\n",
       "      <th>8471</th>\n",
       "      <td>ThrAGT</td>\n",
       "      <td>&gt;TCGAATCCCAGCGGTGCCTCCA</td>\n",
       "      <td>hsa-miR-95-5p</td>\n",
       "      <td>1</td>\n",
       "    </tr>\n",
       "  </tbody>\n",
       "</table>\n",
       "<p>8472 rows × 4 columns</p>\n",
       "</div>"
      ],
      "text/plain": [
       "       Query                          Sequence        Mirna Name  trial\n",
       "6591  ThrAGT               >ATCCCAGCGGTGCCTCCG   hsa-miR-3613-3p    160\n",
       "4491  ThrAGT               >ATCCCAGCGGTGCCTCCA   hsa-miR-3613-3p    156\n",
       "7396  ThrAGT               >ATCCCAGCGGTGCCTCCG   hsa-miR-548c-3p    136\n",
       "5294  ThrAGT               >ATCCCAGCGGTGCCTCCA   hsa-miR-548c-3p    132\n",
       "7363  ThrAGT               >ATCCCAGCGGTGCCTCCG  hsa-miR-548aj-3p     80\n",
       "...      ...                               ...               ...    ...\n",
       "3080  GlyCCC  >GCATTGGTGGTTCAGTGGTAGAATTCTCGCC      hsa-miR-4663      1\n",
       "3078  GlyCCC  >GCATTGGTGGTTCAGTGGTAGAATTCTCGCC   hsa-miR-4661-5p      1\n",
       "3077  GlyCCC  >GCATTGGTGGTTCAGTGGTAGAATTCTCGCC      hsa-miR-4660      1\n",
       "3074  GlyCCC  >GCATTGGTGGTTCAGTGGTAGAATTCTCGCC  hsa-miR-4659b-3p      1\n",
       "8471  ThrAGT           >TCGAATCCCAGCGGTGCCTCCA     hsa-miR-95-5p      1\n",
       "\n",
       "[8472 rows x 4 columns]"
      ]
     },
     "execution_count": 19,
     "metadata": {},
     "output_type": "execute_result"
    }
   ],
   "source": []
  },
  {
   "cell_type": "code",
   "execution_count": null,
   "id": "d536e984",
   "metadata": {
    "scrolled": false
   },
   "outputs": [],
   "source": [
    "overlap"
   ]
  }
 ],
 "metadata": {
  "kernelspec": {
   "display_name": "firstEnv",
   "language": "python",
   "name": "firstenv"
  },
  "language_info": {
   "codemirror_mode": {
    "name": "ipython",
    "version": 3
   },
   "file_extension": ".py",
   "mimetype": "text/x-python",
   "name": "python",
   "nbconvert_exporter": "python",
   "pygments_lexer": "ipython3",
   "version": "3.11.0"
  }
 },
 "nbformat": 4,
 "nbformat_minor": 5
}
