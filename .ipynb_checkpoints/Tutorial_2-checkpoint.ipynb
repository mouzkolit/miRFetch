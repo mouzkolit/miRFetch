{
 "cells": [
  {
   "cell_type": "code",
   "execution_count": 1,
   "id": "1f3a9d65",
   "metadata": {},
   "outputs": [],
   "source": [
    "import pandas as pd\n",
    "from rnaFetch.mirCDSFetch import microTCDS\n",
    "from rnaFetch.FetchBioMart import GeneBiomart"
   ]
  },
  {
   "cell_type": "code",
   "execution_count": 2,
   "id": "8a15d4a3",
   "metadata": {},
   "outputs": [],
   "source": [
    "# this can be your own list for predictions\n",
    "list_of_genes = pd.read_csv(\"overlapping_genes.csv\", header = None)\n",
    "list_of_genes = list_of_genes[0].tolist()"
   ]
  },
  {
   "cell_type": "code",
   "execution_count": 3,
   "id": "5862fe30",
   "metadata": {},
   "outputs": [
    {
     "name": "stdout",
     "output_type": "stream",
     "text": [
      "{ \"symbols\" : [\"Cacna2d1\", \"Sez6l\", \"Plxna4\", \"Mmp16\", \"Myo10\", \"Ildr2\", \"Nrip1\", \"Phf24\", \"Irs2\", \"Tecta\", \"Clic4\", \"Arrb1\", \"Tshz2\", \"Ndst1\", \"Zfhx3\", \"D430019H16Rik\", \"Prkce\", \"Kcnb1\", \"Nedd4l\", \"Plekho2\", \"Syt7\", \"Klf7\", \"Rin1\", \"Fam53c\", \"Ank3\", \"Pcnx\", \"Gan\", \"Gnao1\", \"Mapkbp1\", \"Flnc\", \"Srrm4\", \"Zeb1\", \"Slc38a1\", \"Nipal3\", \"Adam19\", \"B930095G15Rik\", \"Fosl2\", \"Osbpl3\", \"Mia3\", \"Gnal\", \"Ank1\", \"Dot1l\", \"Bcl2\", \"Fam171b\", \"Ncam1\", \"Ano6\", \"Cds2\", \"Scn8a\", \"Plekha6\", \"Camta1\", \"Ubn1\", \"Arnt2\", \"Epb41l3\", \"Gpr158\", \"Cadps\", \"Grb10\", \"Slc7a1\", \"Zmym3\", \"Syne2\", \"Slc4a8\", \"5031439G07Rik\", \"Dpp6\", \"Flna\", \"Gtf2ird1\", \"Igf1r\", \"Adarb1\", \"Dgkg\", \"Asap1\", \"Spata13\", \"Micall1\", \"Runx1\", \"Lpp\", \"Cers6\", \"Slc22a23\", \"Pitpnc1\", \"Cask\", \"Amotl1\", \"Kcnt1\", \"Exoc6b\", \"Ptpre\", \"Tmem63c\", \"Sdk1\", \"Add2\", \"Rbfox2\", \"Wwc2\", \"Sned1\", \"Glg1\", \"Erc2\", \"Fam160a2\", \"D130043K22Rik\", \"Atp11a\", \"Slc9a9\", \"Hipk1\", \"Dock3\", \"Sec24d\", \"Fnbp1\", \"Acaca\", \"Dapk1\", \"Cdk14\", \"Atp2a2\"] }\n",
      "{ \"symbols\" : [\"Camk2a\", \"Pfkfb3\", \"Tex2\", \"Tanc1\", \"Syt9\", \"Cplx2\", \"Tln2\", \"Akap12\", \"Myo1e\", \"Gramd1b\", \"Phactr2\", \"Gfod1\", \"Setd7\", \"Phactr1\", \"Rims3\", \"Hip1\", \"Acly\", \"Akap13\", \"Myh10\", \"Tbcel\", \"Wdr7\", \"Mtus1\", \"Map3k9\", \"Snx27\", \"Kif26b\", \"Megf9\", \"Adra1a\", \"Cyp1b1\", \"Timp3\", \"Six4\", \"Tcf20\", \"Gclc\", \"Satb1\", \"Golim4\", \"Grik4\", \"Cobl\", \"Dnajc27\", \"Meg3\", \"Ebf1\", \"Adam23\", \"Reep1\", \"Fry\", \"Otud7b\", \"Pappa\", \"Fbxw11\", \"Atp2b4\", \"Ppargc1a\", \"Lins1\", \"Nav2\", \"Kdm5c\", \"Socs7\", \"Mturn\", \"Ttc9\", \"Dennd1a\", \"Gfpt1\", \"Rnf150\", \"Slc23a2\", \"Wasf2\", \"Serinc5\", \"Fndc3b\"] }\n",
      "99 99 99\n",
      "60 60 60\n"
     ]
    }
   ],
   "source": [
    "biomart_data = GeneBiomart(list_of_genes, species = \"mus_musculus\", symbol = True)\n",
    "query_table = biomart_data.query_data()"
   ]
  },
  {
   "cell_type": "code",
   "execution_count": 5,
   "id": "7492c537",
   "metadata": {},
   "outputs": [
    {
     "name": "stdout",
     "output_type": "stream",
     "text": [
      "0.5\n",
      "We found suggestions by microCDS, please check manually\n",
      "Deleted all suggestions\n",
      "We found suggestions by microCDS, please check manually\n",
      "Setted threshold successfully to 0.5\n",
      "Download of the Table initialized\n",
      "Download Done and added to the Slot data_per_threshold\n"
     ]
    }
   ],
   "source": [
    "fetchcds = microTCDS(query_table)\n",
    "analysis_table = fetchcds.run_miRNA_analysis(threshold = 0.5)"
   ]
  },
  {
   "cell_type": "code",
   "execution_count": 14,
   "id": "8f13a861",
   "metadata": {},
   "outputs": [
    {
     "data": {
      "text/html": [
       "<div>\n",
       "<style scoped>\n",
       "    .dataframe tbody tr th:only-of-type {\n",
       "        vertical-align: middle;\n",
       "    }\n",
       "\n",
       "    .dataframe tbody tr th {\n",
       "        vertical-align: top;\n",
       "    }\n",
       "\n",
       "    .dataframe thead th {\n",
       "        text-align: right;\n",
       "    }\n",
       "</style>\n",
       "<table border=\"1\" class=\"dataframe\">\n",
       "  <thead>\n",
       "    <tr style=\"text-align: right;\">\n",
       "      <th></th>\n",
       "      <th>Transcript Id</th>\n",
       "      <th>Gene Id(name)</th>\n",
       "      <th>Mirna Name</th>\n",
       "      <th>miTG score</th>\n",
       "      <th>Gene_ID</th>\n",
       "      <th>Gene Symbol</th>\n",
       "    </tr>\n",
       "  </thead>\n",
       "  <tbody>\n",
       "    <tr>\n",
       "      <th>0</th>\n",
       "      <td>ENSMUST00000043896</td>\n",
       "      <td>ENSMUSG00000038872 (Zfhx3)</td>\n",
       "      <td>mmu-miR-7116-3p</td>\n",
       "      <td>1.0</td>\n",
       "      <td>ENSMUSG00000038872</td>\n",
       "      <td>Zfhx3</td>\n",
       "    </tr>\n",
       "    <tr>\n",
       "      <th>88</th>\n",
       "      <td>ENSMUST00000043896</td>\n",
       "      <td>ENSMUSG00000038872 (Zfhx3)</td>\n",
       "      <td>mmu-miR-6951-3p</td>\n",
       "      <td>1.0</td>\n",
       "      <td>ENSMUSG00000038872</td>\n",
       "      <td>Zfhx3</td>\n",
       "    </tr>\n",
       "    <tr>\n",
       "      <th>191</th>\n",
       "      <td>ENSMUST00000024894</td>\n",
       "      <td>ENSMUSG00000024087 (Cyp1b1)</td>\n",
       "      <td>mmu-miR-27b-3p</td>\n",
       "      <td>1.0</td>\n",
       "      <td>ENSMUSG00000024087</td>\n",
       "      <td>Cyp1b1</td>\n",
       "    </tr>\n",
       "    <tr>\n",
       "      <th>195</th>\n",
       "      <td>ENSMUST00000026985</td>\n",
       "      <td>ENSMUSG00000025867 (Cplx2)</td>\n",
       "      <td>mmu-miR-207</td>\n",
       "      <td>1.0</td>\n",
       "      <td>ENSMUSG00000025867</td>\n",
       "      <td>Cplx2</td>\n",
       "    </tr>\n",
       "    <tr>\n",
       "      <th>234</th>\n",
       "      <td>ENSMUST00000026985</td>\n",
       "      <td>ENSMUSG00000025867 (Cplx2)</td>\n",
       "      <td>mmu-miR-1903</td>\n",
       "      <td>1.0</td>\n",
       "      <td>ENSMUSG00000025867</td>\n",
       "      <td>Cplx2</td>\n",
       "    </tr>\n",
       "  </tbody>\n",
       "</table>\n",
       "</div>"
      ],
      "text/plain": [
       "          Transcript Id                Gene Id(name)       Mirna Name  \\\n",
       "0    ENSMUST00000043896   ENSMUSG00000038872 (Zfhx3)  mmu-miR-7116-3p   \n",
       "88   ENSMUST00000043896   ENSMUSG00000038872 (Zfhx3)  mmu-miR-6951-3p   \n",
       "191  ENSMUST00000024894  ENSMUSG00000024087 (Cyp1b1)   mmu-miR-27b-3p   \n",
       "195  ENSMUST00000026985   ENSMUSG00000025867 (Cplx2)      mmu-miR-207   \n",
       "234  ENSMUST00000026985   ENSMUSG00000025867 (Cplx2)     mmu-miR-1903   \n",
       "\n",
       "     miTG score             Gene_ID Gene Symbol  \n",
       "0           1.0  ENSMUSG00000038872       Zfhx3  \n",
       "88          1.0  ENSMUSG00000038872       Zfhx3  \n",
       "191         1.0  ENSMUSG00000024087      Cyp1b1  \n",
       "195         1.0  ENSMUSG00000025867       Cplx2  \n",
       "234         1.0  ENSMUSG00000025867       Cplx2  "
      ]
     },
     "execution_count": 14,
     "metadata": {},
     "output_type": "execute_result"
    }
   ],
   "source": [
    "analysis_table.head()"
   ]
  }
 ],
 "metadata": {
  "kernelspec": {
   "display_name": "mirfetch",
   "language": "python",
   "name": "mirfetch"
  },
  "language_info": {
   "codemirror_mode": {
    "name": "ipython",
    "version": 3
   },
   "file_extension": ".py",
   "mimetype": "text/x-python",
   "name": "python",
   "nbconvert_exporter": "python",
   "pygments_lexer": "ipython3",
   "version": "3.11.0"
  }
 },
 "nbformat": 4,
 "nbformat_minor": 5
}
