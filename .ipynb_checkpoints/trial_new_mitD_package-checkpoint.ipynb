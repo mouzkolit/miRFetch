{
 "cells": [
  {
   "cell_type": "code",
   "execution_count": 1,
   "id": "0e01e17b",
   "metadata": {},
   "outputs": [],
   "source": [
    "from mirTFetch import miRT_fetching\n",
    "from mirTFetch import GeneBiomart\n",
    "from mirTFetch import microTCDS"
   ]
  },
  {
   "cell_type": "code",
   "execution_count": 2,
   "id": "7722b58a",
   "metadata": {},
   "outputs": [
    {
     "name": "stdout",
     "output_type": "stream",
     "text": [
      "The current threshold is: 0.9\n",
      "Input Area of Server cleared after Job\n",
      "Started Submitting for the following key: GlyCCC\n",
      "Succesfully checked nucleotides for submission of key : GlyCCC\n"
     ]
    },
    {
     "ename": "NoSuchWindowException",
     "evalue": "Message: no such window: target window already closed\nfrom unknown error: web view not found\n  (Session info: chrome=107.0.5304.110)\nStacktrace:\n#0 0x55e93acbb463 <unknown>\n#1 0x55e93aa7f8d8 <unknown>\n#2 0x55e93aa5ba50 <unknown>\n#3 0x55e93aae284d <unknown>\n#4 0x55e93aaf68d9 <unknown>\n#5 0x55e93aade443 <unknown>\n#6 0x55e93aaaf3c5 <unknown>\n#7 0x55e93aab0531 <unknown>\n#8 0x55e93ad0ddce <unknown>\n#9 0x55e93ad11192 <unknown>\n#10 0x55e93acf293e <unknown>\n#11 0x55e93ad12103 <unknown>\n#12 0x55e93ace5d85 <unknown>\n#13 0x55e93ad330a8 <unknown>\n#14 0x55e93ad33239 <unknown>\n#15 0x55e93ad4e492 <unknown>\n#16 0x7f5745063b43 <unknown>\n",
     "output_type": "error",
     "traceback": [
      "\u001b[0;31m---------------------------------------------------------------------------\u001b[0m",
      "\u001b[0;31mNoSuchWindowException\u001b[0m                     Traceback (most recent call last)",
      "\u001b[0;32m<ipython-input-2-2f37422e77a1>\u001b[0m in \u001b[0;36m<module>\u001b[0;34m\u001b[0m\n\u001b[1;32m      7\u001b[0m \u001b[0mfetcht\u001b[0m \u001b[0;34m=\u001b[0m \u001b[0mmiRT_fetching\u001b[0m\u001b[0;34m(\u001b[0m\u001b[0;34m\"Chrome\"\u001b[0m\u001b[0;34m)\u001b[0m\u001b[0;34m\u001b[0m\u001b[0;34m\u001b[0m\u001b[0m\n\u001b[1;32m      8\u001b[0m \u001b[0mfetcht\u001b[0m\u001b[0;34m.\u001b[0m\u001b[0mthreshold\u001b[0m \u001b[0;34m=\u001b[0m \u001b[0;36m0.90\u001b[0m\u001b[0;34m\u001b[0m\u001b[0;34m\u001b[0m\u001b[0m\n\u001b[0;32m----> 9\u001b[0;31m \u001b[0mfetcht\u001b[0m\u001b[0;34m.\u001b[0m\u001b[0mrun_miRNA_analysis\u001b[0m\u001b[0;34m(\u001b[0m\u001b[0mdictionary\u001b[0m\u001b[0;34m)\u001b[0m\u001b[0;34m\u001b[0m\u001b[0;34m\u001b[0m\u001b[0m\n\u001b[0m\u001b[1;32m     10\u001b[0m \u001b[0mbiomart_data\u001b[0m \u001b[0;34m=\u001b[0m \u001b[0mGeneBiomart\u001b[0m\u001b[0;34m(\u001b[0m\u001b[0mfetcht\u001b[0m\u001b[0;34m.\u001b[0m\u001b[0mprediction_data\u001b[0m\u001b[0;34m[\u001b[0m\u001b[0;34m\"Transcript_ID\"\u001b[0m\u001b[0;34m]\u001b[0m\u001b[0;34m.\u001b[0m\u001b[0munique\u001b[0m\u001b[0;34m(\u001b[0m\u001b[0;34m)\u001b[0m\u001b[0;34m.\u001b[0m\u001b[0mtolist\u001b[0m\u001b[0;34m(\u001b[0m\u001b[0;34m)\u001b[0m\u001b[0;34m)\u001b[0m\u001b[0;34m\u001b[0m\u001b[0;34m\u001b[0m\u001b[0m\n\u001b[1;32m     11\u001b[0m \u001b[0mreturn_table\u001b[0m \u001b[0;34m=\u001b[0m \u001b[0mbiomart_data\u001b[0m\u001b[0;34m.\u001b[0m\u001b[0mquery_data\u001b[0m\u001b[0;34m(\u001b[0m\u001b[0;34m)\u001b[0m\u001b[0;34m\u001b[0m\u001b[0;34m\u001b[0m\u001b[0m\n",
      "\u001b[0;32m~/Desktop/miRNA_DIANA/mirTFetch.py\u001b[0m in \u001b[0;36mrun_miRNA_analysis\u001b[0;34m(self, nucleotide_dictionary)\u001b[0m\n\u001b[1;32m    146\u001b[0m                 \u001b[0mself\u001b[0m\u001b[0;34m.\u001b[0m\u001b[0minput_submit\u001b[0m\u001b[0;34m.\u001b[0m\u001b[0mclick\u001b[0m\u001b[0;34m(\u001b[0m\u001b[0;34m)\u001b[0m\u001b[0;34m\u001b[0m\u001b[0;34m\u001b[0m\u001b[0m\n\u001b[1;32m    147\u001b[0m                 \u001b[0mtime\u001b[0m\u001b[0;34m.\u001b[0m\u001b[0msleep\u001b[0m\u001b[0;34m(\u001b[0m\u001b[0;36m3\u001b[0m\u001b[0;34m)\u001b[0m\u001b[0;34m\u001b[0m\u001b[0;34m\u001b[0m\u001b[0m\n\u001b[0;32m--> 148\u001b[0;31m                 get_element = self.driver.find_element(\n\u001b[0m\u001b[1;32m    149\u001b[0m                     By.XPATH, \"//div[@id='predictionResults']\")\n\u001b[1;32m    150\u001b[0m                 all_children_by_xpath = get_element.find_elements(\n",
      "\u001b[0;32m~/miniconda3/lib/python3.9/site-packages/selenium/webdriver/remote/webdriver.py\u001b[0m in \u001b[0;36mfind_element\u001b[0;34m(self, by, value)\u001b[0m\n\u001b[1;32m    859\u001b[0m             \u001b[0mvalue\u001b[0m \u001b[0;34m=\u001b[0m \u001b[0;34m'[name=\"%s\"]'\u001b[0m \u001b[0;34m%\u001b[0m \u001b[0mvalue\u001b[0m\u001b[0;34m\u001b[0m\u001b[0;34m\u001b[0m\u001b[0m\n\u001b[1;32m    860\u001b[0m \u001b[0;34m\u001b[0m\u001b[0m\n\u001b[0;32m--> 861\u001b[0;31m         \u001b[0;32mreturn\u001b[0m \u001b[0mself\u001b[0m\u001b[0;34m.\u001b[0m\u001b[0mexecute\u001b[0m\u001b[0;34m(\u001b[0m\u001b[0mCommand\u001b[0m\u001b[0;34m.\u001b[0m\u001b[0mFIND_ELEMENT\u001b[0m\u001b[0;34m,\u001b[0m \u001b[0;34m{\u001b[0m\u001b[0;34m\"using\"\u001b[0m\u001b[0;34m:\u001b[0m \u001b[0mby\u001b[0m\u001b[0;34m,\u001b[0m \u001b[0;34m\"value\"\u001b[0m\u001b[0;34m:\u001b[0m \u001b[0mvalue\u001b[0m\u001b[0;34m}\u001b[0m\u001b[0;34m)\u001b[0m\u001b[0;34m[\u001b[0m\u001b[0;34m\"value\"\u001b[0m\u001b[0;34m]\u001b[0m\u001b[0;34m\u001b[0m\u001b[0;34m\u001b[0m\u001b[0m\n\u001b[0m\u001b[1;32m    862\u001b[0m \u001b[0;34m\u001b[0m\u001b[0m\n\u001b[1;32m    863\u001b[0m     \u001b[0;32mdef\u001b[0m \u001b[0mfind_elements\u001b[0m\u001b[0;34m(\u001b[0m\u001b[0mself\u001b[0m\u001b[0;34m,\u001b[0m \u001b[0mby\u001b[0m\u001b[0;34m=\u001b[0m\u001b[0mBy\u001b[0m\u001b[0;34m.\u001b[0m\u001b[0mID\u001b[0m\u001b[0;34m,\u001b[0m \u001b[0mvalue\u001b[0m\u001b[0;34m:\u001b[0m \u001b[0mOptional\u001b[0m\u001b[0;34m[\u001b[0m\u001b[0mstr\u001b[0m\u001b[0;34m]\u001b[0m \u001b[0;34m=\u001b[0m \u001b[0;32mNone\u001b[0m\u001b[0;34m)\u001b[0m \u001b[0;34m->\u001b[0m \u001b[0mList\u001b[0m\u001b[0;34m[\u001b[0m\u001b[0mWebElement\u001b[0m\u001b[0;34m]\u001b[0m\u001b[0;34m:\u001b[0m\u001b[0;34m\u001b[0m\u001b[0;34m\u001b[0m\u001b[0m\n",
      "\u001b[0;32m~/miniconda3/lib/python3.9/site-packages/selenium/webdriver/remote/webdriver.py\u001b[0m in \u001b[0;36mexecute\u001b[0;34m(self, driver_command, params)\u001b[0m\n\u001b[1;32m    442\u001b[0m         \u001b[0mresponse\u001b[0m \u001b[0;34m=\u001b[0m \u001b[0mself\u001b[0m\u001b[0;34m.\u001b[0m\u001b[0mcommand_executor\u001b[0m\u001b[0;34m.\u001b[0m\u001b[0mexecute\u001b[0m\u001b[0;34m(\u001b[0m\u001b[0mdriver_command\u001b[0m\u001b[0;34m,\u001b[0m \u001b[0mparams\u001b[0m\u001b[0;34m)\u001b[0m\u001b[0;34m\u001b[0m\u001b[0;34m\u001b[0m\u001b[0m\n\u001b[1;32m    443\u001b[0m         \u001b[0;32mif\u001b[0m \u001b[0mresponse\u001b[0m\u001b[0;34m:\u001b[0m\u001b[0;34m\u001b[0m\u001b[0;34m\u001b[0m\u001b[0m\n\u001b[0;32m--> 444\u001b[0;31m             \u001b[0mself\u001b[0m\u001b[0;34m.\u001b[0m\u001b[0merror_handler\u001b[0m\u001b[0;34m.\u001b[0m\u001b[0mcheck_response\u001b[0m\u001b[0;34m(\u001b[0m\u001b[0mresponse\u001b[0m\u001b[0;34m)\u001b[0m\u001b[0;34m\u001b[0m\u001b[0;34m\u001b[0m\u001b[0m\n\u001b[0m\u001b[1;32m    445\u001b[0m             \u001b[0mresponse\u001b[0m\u001b[0;34m[\u001b[0m\u001b[0;34m\"value\"\u001b[0m\u001b[0;34m]\u001b[0m \u001b[0;34m=\u001b[0m \u001b[0mself\u001b[0m\u001b[0;34m.\u001b[0m\u001b[0m_unwrap_value\u001b[0m\u001b[0;34m(\u001b[0m\u001b[0mresponse\u001b[0m\u001b[0;34m.\u001b[0m\u001b[0mget\u001b[0m\u001b[0;34m(\u001b[0m\u001b[0;34m\"value\"\u001b[0m\u001b[0;34m,\u001b[0m \u001b[0;32mNone\u001b[0m\u001b[0;34m)\u001b[0m\u001b[0;34m)\u001b[0m\u001b[0;34m\u001b[0m\u001b[0;34m\u001b[0m\u001b[0m\n\u001b[1;32m    446\u001b[0m             \u001b[0;32mreturn\u001b[0m \u001b[0mresponse\u001b[0m\u001b[0;34m\u001b[0m\u001b[0;34m\u001b[0m\u001b[0m\n",
      "\u001b[0;32m~/miniconda3/lib/python3.9/site-packages/selenium/webdriver/remote/errorhandler.py\u001b[0m in \u001b[0;36mcheck_response\u001b[0;34m(self, response)\u001b[0m\n\u001b[1;32m    247\u001b[0m                 \u001b[0malert_text\u001b[0m \u001b[0;34m=\u001b[0m \u001b[0mvalue\u001b[0m\u001b[0;34m[\u001b[0m\u001b[0;34m\"alert\"\u001b[0m\u001b[0;34m]\u001b[0m\u001b[0;34m.\u001b[0m\u001b[0mget\u001b[0m\u001b[0;34m(\u001b[0m\u001b[0;34m\"text\"\u001b[0m\u001b[0;34m)\u001b[0m\u001b[0;34m\u001b[0m\u001b[0;34m\u001b[0m\u001b[0m\n\u001b[1;32m    248\u001b[0m             \u001b[0;32mraise\u001b[0m \u001b[0mexception_class\u001b[0m\u001b[0;34m(\u001b[0m\u001b[0mmessage\u001b[0m\u001b[0;34m,\u001b[0m \u001b[0mscreen\u001b[0m\u001b[0;34m,\u001b[0m \u001b[0mstacktrace\u001b[0m\u001b[0;34m,\u001b[0m \u001b[0malert_text\u001b[0m\u001b[0;34m)\u001b[0m  \u001b[0;31m# type: ignore[call-arg]  # mypy is not smart enough here\u001b[0m\u001b[0;34m\u001b[0m\u001b[0;34m\u001b[0m\u001b[0m\n\u001b[0;32m--> 249\u001b[0;31m         \u001b[0;32mraise\u001b[0m \u001b[0mexception_class\u001b[0m\u001b[0;34m(\u001b[0m\u001b[0mmessage\u001b[0m\u001b[0;34m,\u001b[0m \u001b[0mscreen\u001b[0m\u001b[0;34m,\u001b[0m \u001b[0mstacktrace\u001b[0m\u001b[0;34m)\u001b[0m\u001b[0;34m\u001b[0m\u001b[0;34m\u001b[0m\u001b[0m\n\u001b[0m",
      "\u001b[0;31mNoSuchWindowException\u001b[0m: Message: no such window: target window already closed\nfrom unknown error: web view not found\n  (Session info: chrome=107.0.5304.110)\nStacktrace:\n#0 0x55e93acbb463 <unknown>\n#1 0x55e93aa7f8d8 <unknown>\n#2 0x55e93aa5ba50 <unknown>\n#3 0x55e93aae284d <unknown>\n#4 0x55e93aaf68d9 <unknown>\n#5 0x55e93aade443 <unknown>\n#6 0x55e93aaaf3c5 <unknown>\n#7 0x55e93aab0531 <unknown>\n#8 0x55e93ad0ddce <unknown>\n#9 0x55e93ad11192 <unknown>\n#10 0x55e93acf293e <unknown>\n#11 0x55e93ad12103 <unknown>\n#12 0x55e93ace5d85 <unknown>\n#13 0x55e93ad330a8 <unknown>\n#14 0x55e93ad33239 <unknown>\n#15 0x55e93ad4e492 <unknown>\n#16 0x7f5745063b43 <unknown>\n"
     ]
    }
   ],
   "source": [
    "# run the data \n",
    "dictionary = {\"GlyCCC\": [\"GCATTGGTGGTTCAGTGGTAGAATTCTC\", \"GCATTGGTGGTTCAGTGGTAGAATTCTCGCC\", \"GCATTGGTGGTTCAGTGGTAGAATTCT\"],\n",
    "             \"LysTTT\": [\"GGGAGCGCCCGGATAGCTCAGTCGGTAGAGCATCAGACTTTT\",\"TCGGGCGGGAGTGGTGGCTTTT\",\"TCGGGCGGGAGTGGTGGCTTT\"],\n",
    "              \"ThrAGT\": [\"TCGAATCCCAGCGGTGCCTCCA\",\"ATCCCAGCGGTGCCTCCA\",\"ATCCCAGCGGTGCCTCCG\"]}\n",
    "\n",
    "# load the module\n",
    "fetcht = miRT_fetching(\"Chrome\")\n",
    "fetcht.threshold = 0.90\n",
    "fetcht.run_miRNA_analysis(dictionary)\n",
    "biomart_data = GeneBiomart(fetcht.prediction_data[\"Transcript_ID\"].unique().tolist())\n",
    "return_table = biomart_data.query_data()\n",
    "final_table = biomart_data.merge_annotation(fetcht.prediction_data, return_table)"
   ]
  },
  {
   "cell_type": "code",
   "execution_count": 1,
   "id": "f5623c8c",
   "metadata": {},
   "outputs": [
    {
     "name": "stdout",
     "output_type": "stream",
     "text": [
      "We found suggestions by microCDS, please check manually\n",
      "Deleted all suggestions\n",
      "We found suggestions by microCDS, please check manually\n",
      "Deleted all suggestions\n",
      "We found suggestions by microCDS, please check manually\n",
      "Deleted all suggestions\n",
      "We found suggestions by microCDS, please check manually\n",
      "Deleted all suggestions\n",
      "We found suggestions by microCDS, please check manually\n",
      "Deleted all suggestions\n",
      "We found suggestions by microCDS, please check manually\n",
      "Setted threshold successfully to 0.9\n",
      "Download of the Table initialized\n",
      "Download Done and added to the Slot data_per_threshold\n",
      "We found suggestions by microCDS, please check manually\n",
      "Deleted all suggestions\n",
      "We found suggestions by microCDS, please check manually\n",
      "Deleted all suggestions\n",
      "We found suggestions by microCDS, please check manually\n",
      "Deleted all suggestions\n",
      "We found suggestions by microCDS, please check manually\n",
      "Deleted all suggestions\n",
      "We found suggestions by microCDS, please check manually\n",
      "Deleted all suggestions\n",
      "We found suggestions by microCDS, please check manually\n",
      "Setted threshold successfully to 0.9\n",
      "Download of the Table initialized\n",
      "Download Done and added to the Slot data_per_threshold\n",
      "We found suggestions by microCDS, please check manually\n",
      "Deleted all suggestions\n",
      "We found suggestions by microCDS, please check manually\n",
      "Setted threshold successfully to 0.9\n",
      "Download of the Table initialized\n",
      "Download Done and added to the Slot data_per_threshold\n"
     ]
    }
   ],
   "source": [
    "#compare to microTCDS\n",
    "import pandas as pd \n",
    "from mirTFetch import microTCDS\n",
    "final_table=pd.read_csv(\"check_suggestions.csv\")\n",
    "fetchcds = microTCDS(final_table)\n",
    "new_table = fetchcds.run_miRNA_analysis()\n",
    "overlap, grouped = fetchcds.get_mt_cds_overlap(final_table, new_table)"
   ]
  },
  {
   "cell_type": "code",
   "execution_count": 19,
   "id": "b6690d21",
   "metadata": {},
   "outputs": [
    {
     "data": {
      "text/html": [
       "<div>\n",
       "<style scoped>\n",
       "    .dataframe tbody tr th:only-of-type {\n",
       "        vertical-align: middle;\n",
       "    }\n",
       "\n",
       "    .dataframe tbody tr th {\n",
       "        vertical-align: top;\n",
       "    }\n",
       "\n",
       "    .dataframe thead th {\n",
       "        text-align: right;\n",
       "    }\n",
       "</style>\n",
       "<table border=\"1\" class=\"dataframe\">\n",
       "  <thead>\n",
       "    <tr style=\"text-align: right;\">\n",
       "      <th></th>\n",
       "      <th>Query</th>\n",
       "      <th>Sequence</th>\n",
       "      <th>Mirna Name</th>\n",
       "      <th>trial</th>\n",
       "    </tr>\n",
       "  </thead>\n",
       "  <tbody>\n",
       "    <tr>\n",
       "      <th>6591</th>\n",
       "      <td>ThrAGT</td>\n",
       "      <td>&gt;ATCCCAGCGGTGCCTCCG</td>\n",
       "      <td>hsa-miR-3613-3p</td>\n",
       "      <td>160</td>\n",
       "    </tr>\n",
       "    <tr>\n",
       "      <th>4491</th>\n",
       "      <td>ThrAGT</td>\n",
       "      <td>&gt;ATCCCAGCGGTGCCTCCA</td>\n",
       "      <td>hsa-miR-3613-3p</td>\n",
       "      <td>156</td>\n",
       "    </tr>\n",
       "    <tr>\n",
       "      <th>7396</th>\n",
       "      <td>ThrAGT</td>\n",
       "      <td>&gt;ATCCCAGCGGTGCCTCCG</td>\n",
       "      <td>hsa-miR-548c-3p</td>\n",
       "      <td>136</td>\n",
       "    </tr>\n",
       "    <tr>\n",
       "      <th>5294</th>\n",
       "      <td>ThrAGT</td>\n",
       "      <td>&gt;ATCCCAGCGGTGCCTCCA</td>\n",
       "      <td>hsa-miR-548c-3p</td>\n",
       "      <td>132</td>\n",
       "    </tr>\n",
       "    <tr>\n",
       "      <th>7363</th>\n",
       "      <td>ThrAGT</td>\n",
       "      <td>&gt;ATCCCAGCGGTGCCTCCG</td>\n",
       "      <td>hsa-miR-548aj-3p</td>\n",
       "      <td>80</td>\n",
       "    </tr>\n",
       "    <tr>\n",
       "      <th>...</th>\n",
       "      <td>...</td>\n",
       "      <td>...</td>\n",
       "      <td>...</td>\n",
       "      <td>...</td>\n",
       "    </tr>\n",
       "    <tr>\n",
       "      <th>3080</th>\n",
       "      <td>GlyCCC</td>\n",
       "      <td>&gt;GCATTGGTGGTTCAGTGGTAGAATTCTCGCC</td>\n",
       "      <td>hsa-miR-4663</td>\n",
       "      <td>1</td>\n",
       "    </tr>\n",
       "    <tr>\n",
       "      <th>3078</th>\n",
       "      <td>GlyCCC</td>\n",
       "      <td>&gt;GCATTGGTGGTTCAGTGGTAGAATTCTCGCC</td>\n",
       "      <td>hsa-miR-4661-5p</td>\n",
       "      <td>1</td>\n",
       "    </tr>\n",
       "    <tr>\n",
       "      <th>3077</th>\n",
       "      <td>GlyCCC</td>\n",
       "      <td>&gt;GCATTGGTGGTTCAGTGGTAGAATTCTCGCC</td>\n",
       "      <td>hsa-miR-4660</td>\n",
       "      <td>1</td>\n",
       "    </tr>\n",
       "    <tr>\n",
       "      <th>3074</th>\n",
       "      <td>GlyCCC</td>\n",
       "      <td>&gt;GCATTGGTGGTTCAGTGGTAGAATTCTCGCC</td>\n",
       "      <td>hsa-miR-4659b-3p</td>\n",
       "      <td>1</td>\n",
       "    </tr>\n",
       "    <tr>\n",
       "      <th>8471</th>\n",
       "      <td>ThrAGT</td>\n",
       "      <td>&gt;TCGAATCCCAGCGGTGCCTCCA</td>\n",
       "      <td>hsa-miR-95-5p</td>\n",
       "      <td>1</td>\n",
       "    </tr>\n",
       "  </tbody>\n",
       "</table>\n",
       "<p>8472 rows × 4 columns</p>\n",
       "</div>"
      ],
      "text/plain": [
       "       Query                          Sequence        Mirna Name  trial\n",
       "6591  ThrAGT               >ATCCCAGCGGTGCCTCCG   hsa-miR-3613-3p    160\n",
       "4491  ThrAGT               >ATCCCAGCGGTGCCTCCA   hsa-miR-3613-3p    156\n",
       "7396  ThrAGT               >ATCCCAGCGGTGCCTCCG   hsa-miR-548c-3p    136\n",
       "5294  ThrAGT               >ATCCCAGCGGTGCCTCCA   hsa-miR-548c-3p    132\n",
       "7363  ThrAGT               >ATCCCAGCGGTGCCTCCG  hsa-miR-548aj-3p     80\n",
       "...      ...                               ...               ...    ...\n",
       "3080  GlyCCC  >GCATTGGTGGTTCAGTGGTAGAATTCTCGCC      hsa-miR-4663      1\n",
       "3078  GlyCCC  >GCATTGGTGGTTCAGTGGTAGAATTCTCGCC   hsa-miR-4661-5p      1\n",
       "3077  GlyCCC  >GCATTGGTGGTTCAGTGGTAGAATTCTCGCC      hsa-miR-4660      1\n",
       "3074  GlyCCC  >GCATTGGTGGTTCAGTGGTAGAATTCTCGCC  hsa-miR-4659b-3p      1\n",
       "8471  ThrAGT           >TCGAATCCCAGCGGTGCCTCCA     hsa-miR-95-5p      1\n",
       "\n",
       "[8472 rows x 4 columns]"
      ]
     },
     "execution_count": 19,
     "metadata": {},
     "output_type": "execute_result"
    }
   ],
   "source": [
    "trial = pd.DataFrame(overlap.groupby([\"Query\", \"Sequence\", \"Mirna Name\"])[\"Mirna Name\"].count())\n",
    "trial.columns = [\"trial\"]\n",
    "trial.reset_index().sort_values(\"trial\", ascending = False)"
   ]
  },
  {
   "cell_type": "code",
   "execution_count": null,
   "id": "d536e984",
   "metadata": {
    "scrolled": false
   },
   "outputs": [],
   "source": [
    "overlap"
   ]
  },
  {
   "cell_type": "code",
   "execution_count": null,
   "id": "953d67d6",
   "metadata": {},
   "outputs": [],
   "source": []
  },
  {
   "cell_type": "code",
   "execution_count": null,
   "id": "914b0df3",
   "metadata": {},
   "outputs": [],
   "source": [
    "overlap.groupby([\"Query\",\"Sequence\", \"Mirna Name\"])[\"Mirna Name\"].count()"
   ]
  },
  {
   "cell_type": "code",
   "execution_count": null,
   "id": "187a0fc3",
   "metadata": {},
   "outputs": [],
   "source": [
    "final_table"
   ]
  },
  {
   "cell_type": "code",
   "execution_count": null,
   "id": "81235874",
   "metadata": {
    "scrolled": true
   },
   "outputs": [],
   "source": []
  },
  {
   "cell_type": "code",
   "execution_count": null,
   "id": "ebe25a0e",
   "metadata": {
    "scrolled": false
   },
   "outputs": [],
   "source": []
  },
  {
   "cell_type": "code",
   "execution_count": null,
   "id": "231d202d",
   "metadata": {},
   "outputs": [],
   "source": []
  },
  {
   "cell_type": "code",
   "execution_count": null,
   "id": "2415c6e8",
   "metadata": {},
   "outputs": [],
   "source": []
  }
 ],
 "metadata": {
  "kernelspec": {
   "display_name": "Python 3",
   "language": "python",
   "name": "python3"
  },
  "language_info": {
   "codemirror_mode": {
    "name": "ipython",
    "version": 3
   },
   "file_extension": ".py",
   "mimetype": "text/x-python",
   "name": "python",
   "nbconvert_exporter": "python",
   "pygments_lexer": "ipython3",
   "version": "3.9.5"
  }
 },
 "nbformat": 4,
 "nbformat_minor": 5
}
